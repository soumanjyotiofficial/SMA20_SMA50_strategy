{
 "cells": [
  {
   "cell_type": "code",
   "execution_count": 1,
   "metadata": {},
   "outputs": [],
   "source": [
    "import pandas as pd\n",
    "import pandas_ta as ta\n",
    "import numpy as np\n",
    "import datetime as dt\n",
    "import matplotlib.pyplot as plt"
   ]
  },
  {
   "cell_type": "code",
   "execution_count": 2,
   "metadata": {},
   "outputs": [],
   "source": [
    "data = pd.read_csv(\"F:\\\\your\\\\file_path\\\\data.csv\")\n"
   ]
  },
  {
   "cell_type": "code",
   "execution_count": 3,
   "metadata": {},
   "outputs": [],
   "source": [
    "data.drop(columns=['Volume',\"Symbol\"], inplace=True)"
   ]
  },
  {
   "cell_type": "markdown",
   "metadata": {},
   "source": [
    "\n",
    "<ul>\n",
    "<li>Check Color of the candle\n",
    "<li>Check First 10 min High and Low\n",
    "<li>Add moving average\n",
    "<li>Get Long Short Signal \n",
    "<li>Run Simulation\n",
    "</ul>"
   ]
  },
  {
   "cell_type": "code",
   "execution_count": 4,
   "metadata": {},
   "outputs": [],
   "source": [
    "data['Datetime'] = pd.to_datetime(data['Datetime'])\n",
    "\n",
    "data['Color_10_min'] = np.where(\n",
    "    (data['Open'].shift(1)>data['Close'])&\n",
    "     (data['Datetime'].dt.minute == 20)&\n",
    "     (data['Datetime'].dt.hour == 9) ,\"r\",\n",
    "     np.where((data['Open'].shift(1)<data['Close'])&\n",
    "     (data['Datetime'].dt.minute == 20)&\n",
    "     (data['Datetime'].dt.hour == 9),'g',np.nan))\n",
    "\n"
   ]
  },
  {
   "cell_type": "markdown",
   "metadata": {},
   "source": [
    "Check First 10 min High and Low"
   ]
  },
  {
   "cell_type": "code",
   "execution_count": 5,
   "metadata": {},
   "outputs": [],
   "source": [
    "data['Prv_high'] = data['High'].shift(1)\n",
    "data['Prv_low'] = data['Low'].shift(1)\n",
    "data['10_min_high'] = np.where(\n",
    "    (data['Datetime'].dt.minute==20)&\n",
    "    (data['Datetime'].dt.hour==9)&\n",
    "    (data['Color_10_min'] != np.nan)&\n",
    "    (data['High'].shift(1)>data['High']), \n",
    "    data['High'].shift(1),\n",
    "    np.where(\n",
    "        (data['Datetime'].dt.minute==20)&\n",
    "        (data['Datetime'].dt.hour==9)&\n",
    "        (data['Color_10_min'] != np.nan)&\n",
    "        (data['High'].shift(1)<data['High']), data['High'],np.nan)\n",
    "    )\n",
    "data['10_min_low'] = np.where(\n",
    "    (data['Datetime'].dt.minute==20)&\n",
    "    (data['Datetime'].dt.hour==9)&\n",
    "    (data['Color_10_min'] != np.nan)&\n",
    "    (data['Low'].shift(1)>data['Low']), \n",
    "    data['Low'],\n",
    "    np.where(\n",
    "        (data['Datetime'].dt.minute==20)&\n",
    "        (data['Datetime'].dt.hour==9)&\n",
    "        (data['Color_10_min'] != np.nan)&\n",
    "        (data['Low'].shift(1)<data['Low']), data['Low'].shift(1),np.nan)\n",
    "    )\n",
    "\n",
    "\n"
   ]
  },
  {
   "cell_type": "markdown",
   "metadata": {},
   "source": [
    "Add SMA \n"
   ]
  },
  {
   "cell_type": "code",
   "execution_count": null,
   "metadata": {},
   "outputs": [],
   "source": [
    "data['SMA_20'] = ta.sma(data['Close'], 20)\n",
    "data['SMA_50'] = ta.sma(data['Close'], 50)\n",
    "data = data[data['SMA_50']>=0]\n",
    "\n"
   ]
  },
  {
   "cell_type": "markdown",
   "metadata": {},
   "source": [
    "Geting Signals"
   ]
  },
  {
   "cell_type": "code",
   "execution_count": 7,
   "metadata": {},
   "outputs": [],
   "source": [
    "data['Long/Short'] = np.where(\n",
    "    (data['Close']<data['SMA_20'])&\n",
    "    (data['Close']<data['SMA_50'])&\n",
    "    (data['Open']>data['SMA_20'])&\n",
    "    (data['Color_10_min']==\"r\"),\n",
    "    -1,\n",
    "    np.where(\n",
    "        (data['Close']>data['SMA_20'])&\n",
    "    (data['Close']>data['SMA_50'])&\n",
    "    (data['Open']>data['SMA_20'])&\n",
    "    (data['Color_10_min']==\"g\"),\n",
    "    1,np.nan\n",
    "    )\n",
    ")\n"
   ]
  },
  {
   "cell_type": "markdown",
   "metadata": {},
   "source": [
    "Running Simulation"
   ]
  },
  {
   "cell_type": "code",
   "execution_count": 8,
   "metadata": {},
   "outputs": [],
   "source": [
    "color = None\n",
    "\n",
    "high = None\n",
    "low = None\n",
    "date_ = None\n",
    "position= None\n",
    "signal_generated = False\n",
    "long_short = None\n",
    "trade_history = pd.DataFrame(columns=[\"Datetime\", \"Entry/Exit\",\"Position_Type\",\"Entry_Price\",\"Take_Profit\",\"Take_SL\",\"qty\",\"EXIT_PRICE\", \"extime\"])\n",
    "entry_price = 0\n",
    "sl = 0\n",
    "tp = 0\n",
    "initial_capital = 10000\n",
    "\n"
   ]
  },
  {
   "cell_type": "code",
   "execution_count": null,
   "metadata": {},
   "outputs": [],
   "source": [
    "for a in data.iterrows():\n",
    "    tick = a[1]\n",
    "    datetime_ = dt.datetime.strptime(str(tick.iloc[0]),'%Y-%m-%d %H:%M:%S')\n",
    "    time = datetime_.time()\n",
    "    if datetime_.date() !=date_:\n",
    "        date_ = datetime_.date()\n",
    "        position  = None\n",
    "        long_short = None\n",
    "        signal_generated = False\n",
    "    \n",
    "    if time.hour==9 and time.minute==20:\n",
    "        if tick.iloc[5] == \"g\" or tick.iloc[5]=='r':\n",
    "            \n",
    "            color=tick.iloc[5]\n",
    "            high = tick.iloc[2]\n",
    "            low = tick.iloc[3]\n",
    "            signal_generated = True\n",
    "            long_short = tick.iloc[-1]\n",
    "            \n",
    "   \n",
    "    if signal_generated:\n",
    "        \n",
    "        if position == None:\n",
    "            if  dt.time(9,20) < datetime_.time() < dt.time(12,30):\n",
    "\n",
    "                \n",
    "                if long_short == 1 and tick.iloc[4] > high:\n",
    "                    entry_price = tick.iloc[4]\n",
    "                    rtp = 0.01*initial_capital\n",
    "                    \n",
    "                    sl = tick.iloc[3]\n",
    "                    tp = (entry_price-sl)*3+entry_price\n",
    "                    qty = int(rtp/(entry_price-sl))\n",
    "                    initial_capital -= qty*entry_price\n",
    "                    trade_history.loc[len(trade_history)] = [\n",
    "                        datetime_,'Entry',\"Long\",\n",
    "                        entry_price,tp,sl,qty,0,0\n",
    "                                                                ]\n",
    "                    position=True\n",
    "                    \n",
    "                    \n",
    "        elif position==True:\n",
    "            #print(datetime_, entry_price, tp, sl, tick.iloc[4])\n",
    "            if tick.iloc[4]>=tp:\n",
    "                trade_history.loc[len(trade_history)-1,\"EXIT_PRICE\"] = tick.iloc[4]\n",
    "                trade_history.loc[len(trade_history)-1,\"extime\"]=tick.iloc[0]\n",
    "                initial_capital+=tick.iloc[4]*qty\n",
    "                \n",
    "                \"\"\"trade_history.loc[len(trade_history)] = [\n",
    "                    datetime_,'Exit',None,\n",
    "                    None,None,None,tick.iloc[4]\n",
    "\n",
    "                ]\"\"\"\n",
    "                \n",
    "                position=None\n",
    "                high=None\n",
    "                low=None\n",
    "                signal_generated=False\n",
    "                \n",
    "            elif tick.iloc[4]<=sl:\n",
    "                trade_history.loc[len(trade_history)-1,\"EXIT_PRICE\"] = tick.iloc[4]\n",
    "                trade_history.loc[len(trade_history)-1,\"extime\"]=tick.iloc[0]\n",
    "                initial_capital+=tick.iloc[4]*qty\n",
    "                \n",
    "                position=None\n",
    "                high=None\n",
    "                low=None\n",
    "                signal_generated=False\n",
    "            elif datetime_.time()>=dt.time(15,0):\n",
    "                trade_history.loc[len(trade_history)-1,\"EXIT_PRICE\"] = tick.iloc[4]\n",
    "                trade_history.loc[len(trade_history)-1,\"extime\"]=tick.iloc[0]\n",
    "                initial_capital+=tick.iloc[4]*qty\n",
    "                \n",
    "                \n",
    "                position=None\n",
    "                high=None\n",
    "                low=None\n",
    "                signal_generated=False\n",
    "                "
   ]
  },
  {
   "cell_type": "code",
   "execution_count": 10,
   "metadata": {},
   "outputs": [
    {
     "name": "stdout",
     "output_type": "stream",
     "text": [
      "Win:142\n",
      "Lose:233\n",
      "Accuracy:0.6094420600858369\n"
     ]
    }
   ],
   "source": [
    "trade_history['_wins'] = np.where(trade_history['Entry_Price']<trade_history['EXIT_PRICE'],\n",
    "                     1,0)\n",
    "print(f\"Win:{trade_history['_wins'].sum()}\\nLose:{len(trade_history)-trade_history['_wins'].sum()}\")\n",
    "print(f\"Accuracy:{trade_history['_wins'].sum()/(len(trade_history)-trade_history['_wins'].sum())}\")"
   ]
  },
  {
   "cell_type": "code",
   "execution_count": null,
   "metadata": {},
   "outputs": [],
   "source": [
    "trade_history['pnl'] = trade_history['qty']*(trade_history['EXIT_PRICE']-trade_history['Entry_Price'])\n",
    "trade_history['equity_curve']=10000 + trade_history['pnl'].cumsum()\n",
    "print(trade_history)"
   ]
  },
  {
   "cell_type": "code",
   "execution_count": 12,
   "metadata": {},
   "outputs": [
    {
     "data": {
      "image/png": "[encoded data removed]",
      "text/plain": [
       "<Figure size 1000x500 with 1 Axes>"
      ]
     },
     "metadata": {},
     "output_type": "display_data"
    }
   ],
   "source": [
    "plt.figure(figsize=(10, 5))\n",
    "plt.plot(trade_history['Datetime'], trade_history['equity_curve'], linestyle='-')\n",
    "plt.gcf().autofmt_xdate()\n",
    "plt.xlabel('Date')\n",
    "plt.ylabel('Value')\n",
    "plt.title('Equity Curve for the 20SMA and 50SMA')\n",
    "plt.show()"
   ]
  }
 ],
 "metadata": {
  "kernelspec": {
   "display_name": "Python 3",
   "language": "python",
   "name": "python3"
  },
  "language_info": {
   "codemirror_mode": {
    "name": "ipython",
    "version": 3
   },
   "file_extension": ".py",
   "mimetype": "text/x-python",
   "name": "python",
   "nbconvert_exporter": "python",
   "pygments_lexer": "ipython3",
   "version": "3.10.1"
  }
 },
 "nbformat": 4,
 "nbformat_minor": 2
}
